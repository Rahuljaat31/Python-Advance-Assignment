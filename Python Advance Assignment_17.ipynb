{
 "cells": [
  {
   "cell_type": "markdown",
   "metadata": {},
   "source": [
    "Q1. Explain the difference between greedy and non-greedy syntax with visual terms in as few words as possible. What is the bare minimum effort required to transform a greedy pattern into a non-greedy one? What characters or characters can you introduce or change?\n",
    "\n",
    "Ans.1 The Main difference between Greedy and Non Greedy Match Syntax is that the Greedy Match will try to match as many repetitions of the quantified pattern as possible Whereas the Non Greedy Match will try to match as few repetitions of the quantified pattern as possible so that it still can match the pattern in the given string."
   ]
  },
  {
   "cell_type": "code",
   "execution_count": 2,
   "metadata": {},
   "outputs": [
    {
     "name": "stdout",
     "output_type": "stream",
     "text": [
      "['rrrrrrr', '']\n",
      "['', 'r', '', 'r', '', 'r', '', 'r', '', 'r', '', 'r', '']\n"
     ]
    }
   ],
   "source": [
    "import re\n",
    "print(re.findall(\"r*\", \"rrrrrrr\")) # Greedy Match Synatx\n",
    "print(re.findall(\"r*?\", \"rrrrrr\")) # Non Greedy Syntax"
   ]
  },
  {
   "cell_type": "markdown",
   "metadata": {},
   "source": [
    "Q2. When exactly does greedy versus non-greedy make a difference? What if you're looking for a non-greedy match but the only one available is greedy?\n",
    "\n",
    "Ans.2  In the non-greedy version of the regex, Python matches the shortest possible string. In the greedy version, Python matches the longest possible string. If only non greedy match is available, we can use other filtering or pattern matching methods of regex and further identify the required pattern."
   ]
  },
  {
   "cell_type": "markdown",
   "metadata": {},
   "source": [
    "Q3. In a simple match of a string, which looks only for one match and does not do any replacement, is the use of a nontagged group likely to make any practical difference?\n",
    "\n",
    "Ans.3 Use of nontagged group will not make any difference."
   ]
  },
  {
   "cell_type": "code",
   "execution_count": 6,
   "metadata": {},
   "outputs": [
    {
     "name": "stdout",
     "output_type": "stream",
     "text": [
      "Phone number available: 011\n",
      "Phone number available: 011\n"
     ]
    }
   ],
   "source": [
    "import re\n",
    "phonenum = re.compile(r'\\d\\d\\d')\n",
    "mo = phonenum.search('My number is 011-222-3333.')\n",
    "print('Phone number available: ' + mo.group()) # nontagged group\n",
    "print('Phone number available: ' + mo.group(0))"
   ]
  },
  {
   "cell_type": "markdown",
   "metadata": {},
   "source": [
    "Q4. Describe a scenario in which using a nontagged category would have a significant impact on the program's outcomes."
   ]
  },
  {
   "cell_type": "code",
   "execution_count": 7,
   "metadata": {},
   "outputs": [
    {
     "data": {
      "text/plain": [
       "('420', '420')"
      ]
     },
     "execution_count": 7,
     "metadata": {},
     "output_type": "execute_result"
    }
   ],
   "source": [
    "#Ans.4 \n",
    "import re\n",
    "t='420.420'\n",
    "pat=r'(\\d+)(?:.)(\\d+)'\n",
    "reobj=re.compile(pat)\n",
    "maobj=reobj.search(t)\n",
    "maobj.groups()\n",
    "\n",
    "#In the above code Snippet . decimal is not tagged or captured. It will useful in scenarios where the separator of value in a string is of no use and we need to capture only the values."
   ]
  },
  {
   "cell_type": "markdown",
   "metadata": {},
   "source": [
    "Q5. Unlike a normal regex pattern, a look-ahead condition does not consume the characters it examines. Describe a situation in which this could make a difference in the results of your programme.\n",
    "\n",
    "Ans.5 While the order of lookaheads doesn't matter on a logical level, we should keep in mind that it may matter for matching speed. If one lookahead is more likely to fail than the other two, it makes little sense to place it in third position and expend a lot of energy checking the first two conditions. Make it first, so that if we're going to fail, we fail early—an application of the design to fail principle from the regex style guide."
   ]
  },
  {
   "cell_type": "markdown",
   "metadata": {},
   "source": [
    "Q6. In standard expressions, what is the difference between positive look-ahead and negative look-ahead?\n",
    "\n",
    "Ans.6 Positive look ahead is an assertion continuing the search and extending the string e.g.pattern= r'abc(?=[A-Z])''.Here after 'abc', ? is extending the search and says that in the remaining string, first identify the next charater should be capitalized character between A and Z, but doesnt consume it."
   ]
  },
  {
   "cell_type": "code",
   "execution_count": 8,
   "metadata": {},
   "outputs": [
    {
     "name": "stdout",
     "output_type": "stream",
     "text": [
      "positive look-ahead   ['abc']\n"
     ]
    }
   ],
   "source": [
    "#Example positive look-ahead\n",
    "import re\n",
    "p=r'abc(?=[A-Z])'\n",
    "t=\"abcABCEF\"\n",
    "reobj=re.compile(p)\n",
    "maobj=reobj.findall(t)\n",
    "print(\"positive look-ahead  \",maobj)"
   ]
  },
  {
   "cell_type": "markdown",
   "metadata": {},
   "source": [
    "Negative look head is also an assertion to exclude certain patterns e.g. pattern = r'abc(?!abc)', means identify a substring containing 'abc' which is not followed by another 'abc'."
   ]
  },
  {
   "cell_type": "code",
   "execution_count": 9,
   "metadata": {},
   "outputs": [
    {
     "name": "stdout",
     "output_type": "stream",
     "text": [
      "negative look-ahead  ['abc']\n"
     ]
    }
   ],
   "source": [
    "#Example negative look-ahead\n",
    "import re\n",
    "pat=r'abc(?!abc)'\n",
    "t=\"aeiouabcabc\"\n",
    "reobj=re.compile(pat)\n",
    "maobj1=reobj.findall(t)\n",
    "print(\"negative look-ahead \",maobj1) "
   ]
  },
  {
   "cell_type": "markdown",
   "metadata": {},
   "source": [
    "Q7. What is the benefit of referring to groups by name rather than by number in a standard expression?\n",
    "\n",
    "Ans.7 The advantage to named groups is that it adds readability and understandability to the code, so that we can easily see what part of a regular expression match is being referenced."
   ]
  },
  {
   "cell_type": "markdown",
   "metadata": {},
   "source": [
    "Q8. Can you identify repeated items within a target string using named groups, as in \"The cow jumped over the moon\"?"
   ]
  },
  {
   "cell_type": "code",
   "execution_count": 10,
   "metadata": {},
   "outputs": [
    {
     "data": {
      "text/plain": [
       "['The', 'the']"
      ]
     },
     "execution_count": 10,
     "metadata": {},
     "output_type": "execute_result"
    }
   ],
   "source": [
    "#Ans.8\n",
    "\n",
    "import re\n",
    "tex = \"The man laned on the moon when moon is settled down\"\n",
    "regobj=re.compile(r'(?P<w1>The)',re.I)\n",
    "regobj.findall(tex)"
   ]
  },
  {
   "cell_type": "markdown",
   "metadata": {},
   "source": [
    "Q9. When parsing a string, what is at least one thing that the Scanner interface does for you that the re.findall feature does not?\n",
    "\n",
    "Ans.9 re.findall() module is used to search for all occurrences that match a given pattern. In contrast, re.search() will only return the first occurrence that matches the specified pattern. re.findall() will iterate over all the lines of the file and will return all non-overlapping matches of pattern in a single step."
   ]
  },
  {
   "cell_type": "markdown",
   "metadata": {},
   "source": [
    "Q10. Does a scanner object have to be named scanner?\n",
    "\n",
    "Ans.10 The scan module is part of the microscopy package. It provides a framework for multidimensional scanning routines while acquiring data. Not madatory to keep the same name. It may have any name."
   ]
  }
 ],
 "metadata": {
  "kernelspec": {
   "display_name": "Python 3",
   "language": "python",
   "name": "python3"
  },
  "language_info": {
   "codemirror_mode": {
    "name": "ipython",
    "version": 3
   },
   "file_extension": ".py",
   "mimetype": "text/x-python",
   "name": "python",
   "nbconvert_exporter": "python",
   "pygments_lexer": "ipython3",
   "version": "3.8.3"
  }
 },
 "nbformat": 4,
 "nbformat_minor": 4
}
