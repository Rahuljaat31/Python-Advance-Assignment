{
 "cells": [
  {
   "cell_type": "code",
   "execution_count": null,
   "metadata": {},
   "outputs": [],
   "source": [
    "\"\"\"\n",
    "Q1. Which two operator overloading methods can you use in your classes to support iteration?\n",
    "\n",
    "Ans.1 __iter__ and __next__ are the operator overloading methods in python that support iteration and are collectively \n",
    "called iterator protocol.\n",
    "\n",
    "__iter__ returns the iterator object and is called at the start of loop in our respective class.\n",
    "\n",
    "__next__ is called at each loop increment, it returns the incremented value. Also Stopiteration is raised when there \n",
    "is no value to return.\n",
    "\"\"\""
   ]
  },
  {
   "cell_type": "code",
   "execution_count": null,
   "metadata": {},
   "outputs": [],
   "source": [
    "\"\"\"\n",
    "Q2. In what contexts do the two operator overloading methods manage printing?\n",
    "\n",
    "Ans. __str__ and __repr__ are two operator overloading methods that manage printing.\n",
    "\n",
    "str -> It is used to print the string representation of an object in such a way that it is readable to the user. Only \n",
    "informatic part. We can also say that only inofficial string representation of the object is taken care by using this method. \n",
    "We cannot reuse it to build the object again for the respective class.\n",
    "\n",
    "repr -> It is used to print the official information about the object. Meaning, the representation of object in a string format \n",
    "in such a way that it is understand by the machine only, however user can also understand but its representation is not that \n",
    "much readable. It can be reuse for constructing the object again of respective class.\n",
    "\n",
    "\"\"\""
   ]
  },
  {
   "cell_type": "code",
   "execution_count": null,
   "metadata": {},
   "outputs": [],
   "source": [
    "\"\"\"\n",
    "Q3. In a class, how do you intercept slice operations?\n",
    "\n",
    "Ans.3 The __getitem__ method allows its instances to use the [](indexer) operators. __getitem__ method can be used for \n",
    "accessing list items, array elements etc. Slicing is called with a slice object and slice objects may be passed on or\n",
    "inspected as needed.\n",
    "\n",
    "\"\"\""
   ]
  },
  {
   "cell_type": "code",
   "execution_count": null,
   "metadata": {},
   "outputs": [],
   "source": [
    "\"\"\"\n",
    "Q4. In a class, how do you capture in-place addition?\n",
    "\n",
    "Ans.4 We can use the __iadd__ method to capture in-place addition. It takes two parameters similar to the __add__ method, \n",
    "but makes the change in-place, modifying the contents of the first parameter. If __iadd__ method is not available, \n",
    "the object tries __add__ with an assignment.\n",
    "\n",
    "\"\"\""
   ]
  },
  {
   "cell_type": "code",
   "execution_count": null,
   "metadata": {},
   "outputs": [],
   "source": [
    "\"\"\"\n",
    "Q5. When is it appropriate to use operator overloading?\n",
    "\n",
    "Ans.5 It is appropriate to use operator overloading when we want to give operators extended meaning beyond their operational \n",
    "meaning.\n",
    "\n",
    "For example:The operator + which is used to add integers, concatenate strings and append lists can also be used to add two \n",
    "objects.\n",
    "\"\"\""
   ]
  },
  {
   "cell_type": "code",
   "execution_count": 3,
   "metadata": {},
   "outputs": [
    {
     "name": "stdout",
     "output_type": "stream",
     "text": [
      "15\n"
     ]
    }
   ],
   "source": [
    "class Adding:\n",
    "    \n",
    "    def __init__(self, a):\n",
    "        self.a = a\n",
    "        \n",
    "    def __add__(self, b):\n",
    "        return self.a + b.a\n",
    "    \n",
    "i = Adding(5)\n",
    "j = Adding(10)\n",
    "\n",
    "print(i+j)"
   ]
  }
 ],
 "metadata": {
  "kernelspec": {
   "display_name": "Python 3",
   "language": "python",
   "name": "python3"
  },
  "language_info": {
   "codemirror_mode": {
    "name": "ipython",
    "version": 3
   },
   "file_extension": ".py",
   "mimetype": "text/x-python",
   "name": "python",
   "nbconvert_exporter": "python",
   "pygments_lexer": "ipython3",
   "version": "3.8.3"
  }
 },
 "nbformat": 4,
 "nbformat_minor": 4
}
