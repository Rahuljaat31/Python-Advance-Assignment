{
 "cells": [
  {
   "cell_type": "markdown",
   "metadata": {},
   "source": [
    "Q1. What is the meaning of multiple inheritance?\n",
    "\n",
    "Ans.1 Multiple Inheritance : Multiple inheritance is a feature of object-oriented computer programming languages in which an object or class can inherit characteristics and features from more than one parent object or the parent class."
   ]
  },
  {
   "cell_type": "code",
   "execution_count": 3,
   "metadata": {},
   "outputs": [],
   "source": [
    "#Example\n",
    "class ParentA:\n",
    "    pass\n",
    "\n",
    "class ParentB:\n",
    "    pass\n",
    "\n",
    "class ParentC:\n",
    "    pass\n",
    "\n",
    "class child(ParentA, ParentB, ParentC):\n",
    "    pass"
   ]
  },
  {
   "cell_type": "markdown",
   "metadata": {},
   "source": [
    "Q2. What is the concept of delegation?\n",
    "\n",
    "Ans.2 Delegation is commonly defined as the shifting of authority and responsibility for particular functions, tasks or decisions from one person (usually a leader or manager) to another."
   ]
  },
  {
   "cell_type": "markdown",
   "metadata": {},
   "source": [
    "Q3. What is the concept of composition?\n",
    "\n",
    "Ans.3 Composition is one of the fundamental concepts in object-oriented programming. It describes a class that references one or more objects of other classes in instance variables. This allows one to model a has-a association between objects."
   ]
  },
  {
   "cell_type": "markdown",
   "metadata": {},
   "source": [
    "Q4. What are bound methods and how do we use them?\n",
    "\n",
    "Ans.4 A bound method is the one which is dependent on the instance of the class as the first argument. It passes the instance as the first argument which is used to access the variables and functions."
   ]
  },
  {
   "cell_type": "code",
   "execution_count": 7,
   "metadata": {},
   "outputs": [],
   "source": [
    "class classA:\n",
    "    def fun(self, arg):\n",
    "        self.arg = arg\n",
    "        print(\"arg:: \", arg)"
   ]
  },
  {
   "cell_type": "code",
   "execution_count": 8,
   "metadata": {},
   "outputs": [
    {
     "name": "stdout",
     "output_type": "stream",
     "text": [
      "<bound method classA.fun of <__main__.classA object at 0x0000023CFD951AF0>>\n"
     ]
    }
   ],
   "source": [
    "obj = classA()  \n",
    "print(obj.fun)# bound method"
   ]
  },
  {
   "cell_type": "code",
   "execution_count": null,
   "metadata": {},
   "outputs": [],
   "source": [
    "\"\"\"\n",
    "Q5. What is the purpose of pseudoprivate attributes?\n",
    "\n",
    "Ans.5 Pseudoprivate attributes (whose names begin but do not end with two leading underscores: __X) are used to localize names \n",
    "to the enclosing class. This includes both class attributes like methods defined inside the class, and self instance attributes\n",
    "assigned inside the class’s methods. Such names are expanded to include the class name, which makes them generally unique.\n",
    "\n",
    "\"\"\""
   ]
  }
 ],
 "metadata": {
  "kernelspec": {
   "display_name": "Python 3",
   "language": "python",
   "name": "python3"
  },
  "language_info": {
   "codemirror_mode": {
    "name": "ipython",
    "version": 3
   },
   "file_extension": ".py",
   "mimetype": "text/x-python",
   "name": "python",
   "nbconvert_exporter": "python",
   "pygments_lexer": "ipython3",
   "version": "3.8.3"
  }
 },
 "nbformat": 4,
 "nbformat_minor": 4
}
