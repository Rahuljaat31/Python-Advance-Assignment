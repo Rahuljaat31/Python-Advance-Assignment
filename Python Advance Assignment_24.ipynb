{
 "cells": [
  {
   "cell_type": "markdown",
   "metadata": {},
   "source": [
    "Q1. Is it permissible to use several import statements to import the same module? What would the goal be? Can you think of a situation where it would be beneficial?\n",
    "\n",
    "Ans.1 Yes we can use more than one import statement to import the same module more than once. This come into action when in support we want to import some other function or class from the base class of any module for example.\n",
    "\n",
    "from sklearn.preprocessing import LabelEncoder\n",
    "\n",
    "from sklearn.linear_model import LinearRegression"
   ]
  },
  {
   "cell_type": "markdown",
   "metadata": {},
   "source": [
    "Q2. What are some of a module's characteristics? (Name at least one.)\n",
    "\n",
    "Ans.2 Characteristics of Modules :\n",
    "\n",
    "* Modules contain instructions, processing logic, and data.\n",
    "* Modules can be separately compiled and stored in a library.\n",
    "* Modules can be included in a program.\n",
    "* Module segments can be used by invoking a name and some parameters.\n",
    "* Module segments can be used by other modules."
   ]
  },
  {
   "cell_type": "markdown",
   "metadata": {},
   "source": [
    "Q3. Circular importing, such as when two modules import each other, can lead to dependencies and bugs that aren't visible. How can you go about creating a program that avoids mutual importing?\n",
    "\n",
    "Ans.3 Circular importing means importing the two modules in each other. If suppose we are wokring in MOD1.py file and it is importing some function say F2() from some other module say MOD2.PY file or we can do vice-versa. What will happen is: This will give an import error.\n",
    "\n",
    "This is because when we import F2() function from module MOD2.py, then this will execute MOD2.py file. And in MOD2.py file there is an another statement of importing MOD1.py module. This will result in endless loop. To avoid this error just do one thing-\n",
    "\n",
    "We can use if name == 'main'\n",
    "\n",
    "In the function, you can't directly refer to the function in the program. The addition of this sentence avoids the endless loop of the program"
   ]
  },
  {
   "cell_type": "markdown",
   "metadata": {},
   "source": [
    "Q4. Why is _ _all_ _ in Python?\n",
    "\n",
    "Ans.4 Python all is a list of public objects of that module, as interpreted by import *. The all overrides the default of hiding everything that begins with an underscore.\n",
    "\n",
    "Objects that start with an underscore or are not mentioned in all if all is present are not exactly hidden; they can be seen and accessed perfectly normally if you know their names. It is only in the case of an “import *“, which is not recommended anyway, that the contrast carries any weight.\n",
    "\n",
    "The all in Python is a list of strings defining what symbols in a module will be exported when from import * is used on the module.\n",
    "\n",
    "The all tells the semantically “public” names from the module. If there is a name in all, the users are expected to use it, and they can expect that it will not change.\n",
    "\n",
    "By default, Python will export all names that do not start with an . You certainly could rely on this mechanism. Using the convention can be more elegant because it removes the redundancy of naming the names again."
   ]
  },
  {
   "cell_type": "markdown",
   "metadata": {},
   "source": [
    "Q5. In what situation is it useful to refer to the _ name attribute or the string ' main _'?\n",
    "\n",
    "Ans.5  During the time of execution of the code, if we want to refer the module in which we are working on, then we use __name__ attribute. In that case it will return the module in which we are working on. Suppose if the module is being imported from some other module, then name will have the name of that module from where the current module has been imported. The current module in which we are working is refer to the string __main __.\n",
    "\n",
    "This built-in attributes prints the name of the class, type, function, method, descriptor, or generator instance.\n",
    "\n",
    "For example, if the python interpreter is running that module (the source file) as the main program, it sets the special name variable to have a value \"main\". If this file is being imported from another module, name will be set to the module's name."
   ]
  },
  {
   "cell_type": "markdown",
   "metadata": {},
   "source": [
    "Q6. What are some of the benefits of attaching a program counter to the RPN interpreter application, which interprets an RPN script line by line?\n",
    "\n",
    "Ans.6 RPN saves time and keystrokes. You avoid using and keeping track of parentheses while doing calculations. The process is similar to the way you learned math on paper. You can see the intermediary results as you perform your computations rather than just the answer at the end."
   ]
  },
  {
   "cell_type": "markdown",
   "metadata": {},
   "source": [
    "Q7. What are the minimum expressions or statements (or both) that you'd need to render a basic programming language like RPN primitive but complete— that is, capable of carrying out any computerised task theoretically possible?\n",
    "\n",
    "Ans.7 \n",
    "# Expressions\n",
    "\n",
    "Expressions perform the work of a program. Among other things, expressions are used to compute and to assign values to variables and to help control the execution flow of a program. The job of an expression is twofold: to perform the computation indicated by the elements of the expression and to return a value that is the result of the computation.\n",
    "\n",
    "# Statements\n",
    "\n",
    "Statements are roughly equivalent to sentences in natural languages. A statement forms a complete unit of execution. The following types of expressions can be made into a statement by terminating the expression with a semicolon (;): Assignment expressions Any use of ++ or -- Method calls Object creation expressions"
   ]
  }
 ],
 "metadata": {
  "kernelspec": {
   "display_name": "Python 3",
   "language": "python",
   "name": "python3"
  },
  "language_info": {
   "codemirror_mode": {
    "name": "ipython",
    "version": 3
   },
   "file_extension": ".py",
   "mimetype": "text/x-python",
   "name": "python",
   "nbconvert_exporter": "python",
   "pygments_lexer": "ipython3",
   "version": "3.8.3"
  }
 },
 "nbformat": 4,
 "nbformat_minor": 4
}
