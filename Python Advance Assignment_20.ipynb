{
 "cells": [
  {
   "cell_type": "markdown",
   "metadata": {},
   "source": [
    "Q1. Compare and contrast the float and Decimal classes' benefits and drawbacks.\n",
    "\n",
    "Ans.1 \n",
    "\n",
    "# Decimal class\n",
    "\n",
    "* Provides support for fast correctly-rounded decimal floating point arithmetic.\n",
    "\n",
    "* It gives the provison to represent the number in a representative way so that it is clearly undertood by the user.\n",
    "\n",
    "* It gives you the exact arithmatic operation result like we use to do normally,\n",
    "\n",
    "* Object exposes all required parts of the standard. When needed, we can change the rounding and signal handling. This includes an option to enforce exact arithmetic by using exceptions to block any inexact operations.\n",
    "\n",
    "* Objects share many properties with the other built-in numeric types such as float and int. All of the usual math operations and special methods apply.\n",
    "\n",
    "* It can be constructed from integers, strings, floats, or tuples. Construction from an integer or a float performs an exact conversion of the value of that integer or float.\n",
    "\n",
    "* It is faster way to get precise value which we human work and have a smaller range than the float\n",
    "\n",
    "* Decimal types are better suited for financial and monetary calculations\n",
    "\n",
    "* The Decimal has a default precision of 28 places\n",
    "\n",
    "# Floating class\n",
    "\n",
    "* It do not represent the exact precise value value.\n",
    "\n",
    "* It gives the value close to the result.\n",
    "\n",
    "* The float object exposes only a modest portion of its capabilities\n",
    "\n",
    "* Some values cannot be exactly represented in a float data type. For instance, storing the 0.1 value in float (which is a binary floating point value) variable we get only an approximation of the value. Similarly, the 1/3 value cannot be represented exactly in decimal floating point type.\n",
    "\n",
    "* Float types is best suited for scientific calculations\n",
    "\n",
    "* The float has default precision of 18 places."
   ]
  },
  {
   "cell_type": "markdown",
   "metadata": {},
   "source": [
    "Q2. Decimal('1.200') and Decimal('1.2') are two objects to consider. In what sense are these the same object? Are these just two ways of representing the exact same value, or do they correspond to different internal states?\n",
    "\n",
    "Ans.2 Though they are identical value wise, internal representation or internal state of these two values are different, as they have decimal values of different precisions. "
   ]
  },
  {
   "cell_type": "code",
   "execution_count": 5,
   "metadata": {},
   "outputs": [
    {
     "name": "stdout",
     "output_type": "stream",
     "text": [
      "1.200\n",
      "1.2\n"
     ]
    }
   ],
   "source": [
    "from decimal import Decimal\n",
    "print(Decimal('1.200'))\n",
    "print(Decimal('1.2'))"
   ]
  },
  {
   "cell_type": "markdown",
   "metadata": {},
   "source": [
    "Q3. What happens if the equality of Decimal('1.200') and Decimal('1.2') is checked?\n",
    "\n",
    "Ans.3 If the equality of Decimal('1.200') and Decimal('1.2') is checked it will returns that values stored are True."
   ]
  },
  {
   "cell_type": "code",
   "execution_count": 7,
   "metadata": {},
   "outputs": [
    {
     "name": "stdout",
     "output_type": "stream",
     "text": [
      "True\n"
     ]
    }
   ],
   "source": [
    "print(Decimal('1.200') == Decimal('1.2'))"
   ]
  },
  {
   "cell_type": "markdown",
   "metadata": {},
   "source": [
    "Q4. Why is it preferable to start a Decimal object with a string rather than a floating-point value?\n",
    "\n",
    "Ans.4  Floating-point value is converted to Decimal format. Decimal can store float value with absolute precision. But when float value is given as Decimal object,it first has to be converted from floating point value which might already have rounding error.Hence it is preferable to start a Decimal object with a string. "
   ]
  },
  {
   "cell_type": "code",
   "execution_count": 9,
   "metadata": {},
   "outputs": [
    {
     "name": "stdout",
     "output_type": "stream",
     "text": [
      "0.299999999999999988897769753748434595763683319091796875\n",
      "0.3\n"
     ]
    }
   ],
   "source": [
    "import decimal\n",
    "from decimal import Decimal\n",
    "x=Decimal(0.3) #float\n",
    "print(x) \n",
    "y=Decimal('0.3') #string\n",
    "print(y) "
   ]
  },
  {
   "cell_type": "markdown",
   "metadata": {},
   "source": [
    "Q5. In an arithmetic phrase, how simple is it to combine Decimal objects with integers?"
   ]
  },
  {
   "cell_type": "code",
   "execution_count": 13,
   "metadata": {},
   "outputs": [
    {
     "name": "stdout",
     "output_type": "stream",
     "text": [
      "<class 'int'>\n",
      "4\n",
      "16\n"
     ]
    }
   ],
   "source": [
    "#Ans.5 \n",
    "import decimal\n",
    "from decimal import Decimal\n",
    "x=4\n",
    "print(type(x))\n",
    "y=Decimal(x)\n",
    "print(y)\n",
    "z=y*Decimal(x)\n",
    "print(z)"
   ]
  },
  {
   "cell_type": "markdown",
   "metadata": {},
   "source": [
    "Q6. Can Decimal objects and floating-point values be combined easily?\n",
    "\n",
    "Ans.6  Arithmetic operations like Adding,subtracting or multiplying a Decimal object by a floating-point value is generates an error. To do these operations, the floating point has to be converted to a Decimal object"
   ]
  },
  {
   "cell_type": "markdown",
   "metadata": {},
   "source": [
    "Q7. Using the Fraction class but not the Decimal class, give an example of a quantity that can be expressed with absolute precision."
   ]
  },
  {
   "cell_type": "code",
   "execution_count": 16,
   "metadata": {},
   "outputs": [
    {
     "name": "stdout",
     "output_type": "stream",
     "text": [
      "1/2\n"
     ]
    }
   ],
   "source": [
    "#Ans.7\n",
    "from fractions import Fraction\n",
    "x=0.5\n",
    "frax=Fraction(x)\n",
    "print(frax)"
   ]
  },
  {
   "cell_type": "markdown",
   "metadata": {},
   "source": [
    "Q8. Describe a quantity that can be accurately expressed by the Decimal or Fraction classes but not by a floating-point value."
   ]
  },
  {
   "cell_type": "code",
   "execution_count": 17,
   "metadata": {},
   "outputs": [
    {
     "name": "stdout",
     "output_type": "stream",
     "text": [
      "Decimal= 0.01\n",
      "Fraction= 1/100\n",
      "Float value= 0.010000000000000002\n"
     ]
    }
   ],
   "source": [
    "#Ans.8 \n",
    "d=Decimal('0.1') * Decimal('0.1')\n",
    "print(\"Decimal=\",d)\n",
    "frac=Fraction('1/10') * Fraction('1/10')\n",
    "print(\"Fraction=\",frac)\n",
    "f=0.1*0.1\n",
    "print(\"Float value=\",f)"
   ]
  },
  {
   "cell_type": "markdown",
   "metadata": {},
   "source": [
    "Q9.Consider the following two fraction objects: Fraction(1, 2) and Fraction(1, 2). (5, 10). Is the internal state of these two objects the same? Why do you think that is?\n",
    "\n",
    "Ans.9 The internal state of both fraction are same as Fraction(5,10) is reduced to simplest form. Hence 1/2 is printed in both the cases"
   ]
  },
  {
   "cell_type": "code",
   "execution_count": 18,
   "metadata": {},
   "outputs": [
    {
     "name": "stdout",
     "output_type": "stream",
     "text": [
      "1/2\n",
      "1/2\n",
      "Both are equal\n"
     ]
    }
   ],
   "source": [
    "from fractions import Fraction\n",
    "frac=Fraction(1, 2)\n",
    "print(frac)\n",
    "fract=Fraction(5, 10)\n",
    "print(fract)\n",
    "if (frac == fract ):\n",
    "    print('Both are equal')"
   ]
  },
  {
   "cell_type": "markdown",
   "metadata": {},
   "source": [
    "Q10. How do the Fraction class and the integer type (int) relate to each other? Containment or inheritance?\n",
    "\n",
    "Ans.10 Fraction class and integer type(int) are related in form of a container. It contains two ints, one in the numerator and the other in the denominator."
   ]
  }
 ],
 "metadata": {
  "kernelspec": {
   "display_name": "Python 3",
   "language": "python",
   "name": "python3"
  },
  "language_info": {
   "codemirror_mode": {
    "name": "ipython",
    "version": 3
   },
   "file_extension": ".py",
   "mimetype": "text/x-python",
   "name": "python",
   "nbconvert_exporter": "python",
   "pygments_lexer": "ipython3",
   "version": "3.8.3"
  }
 },
 "nbformat": 4,
 "nbformat_minor": 4
}
