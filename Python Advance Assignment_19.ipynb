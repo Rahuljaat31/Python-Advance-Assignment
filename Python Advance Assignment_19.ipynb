{
 "cells": [
  {
   "cell_type": "markdown",
   "metadata": {},
   "source": [
    "Q1. Define the relationship between a class and its instances. Is it a one-to-one or a one-to-many partnership, for example?\n",
    "\n",
    "Ans.1  A class is a blueprint which you use to create objects. An object is an instance of a class - it's a concrete 'thing' that you made using a specific class. So, 'object' and 'instance' are the same thing, but the word 'instance' indicates the relationship of an object to its class. a single object of a class can access multille functions defiend in the class in form of ine to many relationships."
   ]
  },
  {
   "cell_type": "markdown",
   "metadata": {},
   "source": [
    "Q2. What kind of data is held only in an instance?\n",
    "\n",
    "Ans.2 Instance objects contains the Instance variables which are specific to that specific Instance object."
   ]
  },
  {
   "cell_type": "markdown",
   "metadata": {},
   "source": [
    "Q3. What kind of knowledge is stored in a class?\n",
    "\n",
    "Ans.3  Class creates a user-defined data structure, which holds its own data members and member functions,which can be accessed and used by creating an instance of that class. A class is a user-defined blueprint or prototype."
   ]
  },
  {
   "cell_type": "markdown",
   "metadata": {},
   "source": [
    "Q4. What exactly is a method, and how is it different from a regular function?\n",
    "\n",
    "Ans.4 A method is refer to the function only but a difference is that, a method can be perfom inside the class by using the class object. It cannot be perform outside the class.\n",
    "\n",
    "While a standard function is a function which can be access outside any where. Working of both the method and std function is same but there is a difference in accessability."
   ]
  },
  {
   "cell_type": "markdown",
   "metadata": {},
   "source": [
    "Q5. Is inheritance supported in Python, and if so, what is the syntax?\n",
    "\n",
    "Ans.5 Yes python do support inheritence in Oops concept. It is possible in python to inherit the behaviour and properties of some other class so as to avoid writing the same code again and again when it is required. We can even do the multiple inheritence. Meaning we can inherit the property of more than onw class into a single class also. \n",
    "\n",
    "Types of Inheritence \n",
    "\n",
    "* Simple Inheritence\n",
    "* Multiple Inheritence\n",
    "* Multilevel lInheritence\n",
    "* Hybrid Inheritence\n",
    "* Hierracial Inheritence"
   ]
  },
  {
   "cell_type": "code",
   "execution_count": 2,
   "metadata": {},
   "outputs": [],
   "source": [
    "class vegman:\n",
    "    pass\n",
    "class man(vegman):\n",
    "    pass\n",
    "\n",
    "class human(man):\n",
    "    pass\n",
    "\n",
    "class Asian(man,vegman):\n",
    "    pass"
   ]
  },
  {
   "cell_type": "markdown",
   "metadata": {},
   "source": [
    "Q6. How much encapsulation (making instance or class variables private) does Python support?\n",
    "\n",
    "Ans.6 Encapsulation describes the idea of wrapping data and the methods that work on data within one unit. This puts restrictions on accessing variables and methods directly and can prevent the accidental modification of data. To prevent accidental change, an objects variable can only be changed by an objects method."
   ]
  },
  {
   "cell_type": "markdown",
   "metadata": {},
   "source": [
    "Q7. How do you distinguish between a class variable and an instance variable?\n",
    "\n",
    "Ans.7 Difference between class variable and instance variable are :\n",
    "\n",
    "* Class variable It is a variable which is declare below the class and outside the init function, where as, instance variable are declared inside the init function.\n",
    "\n",
    "* Class variable need a class name to get called as well as it can be called by the class instance name also, where as a instance variable can be called by an object name but not with the class name.\n",
    "\n",
    "* Class variable* is Global to all the objects of a class means it is shared accross every object, while, instance variable is only for th eunique data values which are stored by the class instance.\n",
    "\n",
    "* Class variable could not override the instance variable but instance variable can override the class variable"
   ]
  },
  {
   "cell_type": "markdown",
   "metadata": {},
   "source": [
    "Q8. When, if ever, can self be included in a class's method definitions?\n",
    "\n",
    "Ans.8 Yes, self can be included to access the class variables and instance variiables."
   ]
  },
  {
   "cell_type": "markdown",
   "metadata": {},
   "source": [
    "Q9. What is the difference between the _ _add_ _ and the _ _radd_ _ methods?\n",
    "\n",
    "Ans.9 add is simply an built method which add the two items when it is pased, whose class is having this method. Like integer and string class have this method and in case of integer this method will add up the two values and in case of string class this will concatenate the two items.\n",
    "\n",
    "radd This is inside the integer class but not in string class. This also add up the two number. But the the difference is, radd is only called if the left object does not have an add method, or that method does not know how to add the two objects. If both the classes have add method then this will not called."
   ]
  },
  {
   "cell_type": "markdown",
   "metadata": {},
   "source": [
    "Q10. When is it necessary to use a reflection method? When do you not need it, even though you\n",
    "support the operation in question?\n",
    "\n",
    "Ans.10 Reflection refers to the ability for code to be able to examine attributes about objects that might be passed as parameters to a function. For example, if we write type(obj) then Python will return an object which represents the type of obj. Using reflection, we can write one recursive reverse function that will work for strings, lists, and any other sequence that supports slicing and concatenation. If an obj is a reference to a string, then Python will return the str type object."
   ]
  },
  {
   "cell_type": "markdown",
   "metadata": {},
   "source": [
    "Q11. What is the _ _iadd_ _ method called?\n",
    "\n",
    "Ans.11 __iadd__ method is called when we use implementation like a+=b which is a.__iadd__(b)"
   ]
  },
  {
   "cell_type": "markdown",
   "metadata": {},
   "source": [
    "Q12. Is the _ _init_ _ method inherited by subclasses? What do you do if you need to customize its\n",
    "behavior within a subclass?\n",
    "\n",
    "Ans.12 init method is basically used for constructing the object variables meaning, initialisation of object variables happen, where the class attributes gets the values from the class instance where the values are stored. So when we want to inherit the attributes/variables of the class then we need to inherit the init method also. This implies that whatever the variables were initialise in the parent class, those will also get initialise in the subclass. We uses super() method in order to call the parent class.\n",
    "\n",
    "We can customise the behaviour of the subclass by declaring some new other attributes and initialising them. However these new attributes will only get accessed by the subclass object. We could use overridding technique also for changing the behaviour of the init method without defining it separately inside the subclass"
   ]
  }
 ],
 "metadata": {
  "kernelspec": {
   "display_name": "Python 3",
   "language": "python",
   "name": "python3"
  },
  "language_info": {
   "codemirror_mode": {
    "name": "ipython",
    "version": 3
   },
   "file_extension": ".py",
   "mimetype": "text/x-python",
   "name": "python",
   "nbconvert_exporter": "python",
   "pygments_lexer": "ipython3",
   "version": "3.8.3"
  }
 },
 "nbformat": 4,
 "nbformat_minor": 4
}
