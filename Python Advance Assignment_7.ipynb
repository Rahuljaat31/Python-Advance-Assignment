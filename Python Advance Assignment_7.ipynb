{
 "cells": [
  {
   "cell_type": "markdown",
   "metadata": {},
   "source": [
    "Q1. What is the purpose of the try statement?\n",
    "\n",
    "Ans.1 The try block lets you test a block of code for errors. The except block lets you handle the error. The else block lets you execute code when there is no error."
   ]
  },
  {
   "cell_type": "code",
   "execution_count": 3,
   "metadata": {},
   "outputs": [
    {
     "name": "stdout",
     "output_type": "stream",
     "text": [
      "Zero Division Error\n"
     ]
    }
   ],
   "source": [
    "try:\n",
    "    print(1/0)\n",
    "except ZeroDivisionError:\n",
    "    print('Zero Division Error')"
   ]
  },
  {
   "cell_type": "markdown",
   "metadata": {},
   "source": [
    "Q2. What are the two most popular try statement variations?\n",
    "\n",
    "Ans.2 The two most popular try statement variations are :\n",
    "\n",
    "1. try/except/else : for catching exceptions\n",
    "\n",
    "2. try/finally : for specifying cleanup actions that must occur whether an exception is raised or not."
   ]
  },
  {
   "cell_type": "markdown",
   "metadata": {},
   "source": [
    "Q3. What is the purpose of the raise statement?\n",
    "\n",
    "Ans.3 The raise statement raises (triggers) an exception. Python raises built-in exceptions on errors internally, but your scripts can trigger built-in or user-defined exceptions with raise, too."
   ]
  },
  {
   "cell_type": "markdown",
   "metadata": {},
   "source": [
    "Q4. What does the assert statement do, and what other statement is it like?\n",
    "\n",
    "Ans.4 The assert statement raises an AssertionError exception if a condition is false. It works like a conditional raise statement wrapped up in an if statement."
   ]
  },
  {
   "cell_type": "markdown",
   "metadata": {},
   "source": [
    "Q5. What is the purpose of the with/as argument, and what other statement is it like?\n",
    "\n",
    "Ans.5 with/as statement simplifies use of file handling in python. When we use a with statement for file reading, there is no need for programmer to explicitly take care of activities like resource deallocation and file closing by using file.close() method. The with statement itself ensures proper acquisition and release of resources. This avoids triggering of exceptions if file closing is unknowingly forgotten in the code execution.\n",
    "\n",
    "Syntax is:\n",
    "with open('fileName with extension', 'mode') as file:\n",
    "\n",
    "file.mode()"
   ]
  }
 ],
 "metadata": {
  "kernelspec": {
   "display_name": "Python 3",
   "language": "python",
   "name": "python3"
  },
  "language_info": {
   "codemirror_mode": {
    "name": "ipython",
    "version": 3
   },
   "file_extension": ".py",
   "mimetype": "text/x-python",
   "name": "python",
   "nbconvert_exporter": "python",
   "pygments_lexer": "ipython3",
   "version": "3.8.3"
  }
 },
 "nbformat": 4,
 "nbformat_minor": 4
}
