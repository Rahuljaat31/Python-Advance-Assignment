{
 "cells": [
  {
   "cell_type": "markdown",
   "metadata": {},
   "source": [
    "Q1. What is a probability distribution, exactly? If the values are meant to be random, how can you predict them at all?\n",
    "\n",
    "Ans.1  A probability distribution is a statistical function that describes all the possible values and likelihoods that a random variable can take within a given range. This range will be bounded between the minimum and maximum possible values, but precisely where the possible value is likely to be plotted on the probability distribution depends on a number of factors. These factors include the distribution's mean (average), standard deviation, skewness, and kurtosis.\n",
    "\n",
    "Statistical researchers often use a linear relationship to predict the (average) numerical value of Y for a given value of X using a straight line (called the regression line). If you know the slope and the y-intercept of that regression line, then you can plug in a value for X and predict the average value for Y.\n",
    "\n",
    "Step 1: List all simple events in sample space.\n",
    "\n",
    "Step 2: Find probability for each simple event.\n",
    "\n",
    "Step 3: List possible values for random variable X and identify the value for each simple event .\n",
    "\n",
    "Step 4: Find all simple events for which X = k, for each possible value k."
   ]
  },
  {
   "cell_type": "markdown",
   "metadata": {},
   "source": [
    "Q2. Is there a distinction between true random numbers and pseudo-random numbers, if there is one? Why are the latter considered “good enough”?\n",
    "\n",
    "Ans.2 The difference between true random number(TRN) and pseudo-random number(PRN), is that TRN's are unpredictable physical values means (like atmospheric noise), and PRN are generated using mathematical algorithms (completely computer-generated).The PRN's are good enough as they follow a uniform distribution and the seed for generating PRN is unpredictable and unknown."
   ]
  },
  {
   "cell_type": "markdown",
   "metadata": {},
   "source": [
    "Q3. What are the two main factors that influence the behaviour of a \"normal\" probability distribution?\n",
    "\n",
    "Ans.3 A normal distribution is determined by two parameters the mean and the variance. A normal distribution with a mean of 0 and a standard deviation of 1 is called a standard normal distribution."
   ]
  },
  {
   "cell_type": "markdown",
   "metadata": {},
   "source": [
    "Q4. Provide a real-life example of a normal distribution.\n",
    "\n",
    "Ans.4 Height of the population is the example of normal distribution. Most of the people in a specific population are of average height. The number of people taller and shorter than the average height people is almost equal, and a very small number of people are either extremely tall or extremely short."
   ]
  },
  {
   "cell_type": "markdown",
   "metadata": {},
   "source": [
    "Q5. In the short term, how can you expect a probability distribution to behave? What do you think will happen as the number of trials grows?\n",
    "\n",
    "Ans.5 A probability distribution for a particular random variable is a function or table of values that maps the outcomes in the sample space to the probabilities of those outcomes. A discrete probability distribution is one which lists the probabilities of random values with integer type or countable values. A continuous probability distribution ( or probability density function) is one which lists the probabilities of random variables with values within a range and is continuous.\n",
    "\n",
    "As the sample size increases, the distribution of frequencies approximates a bell-shaped curved (i.e. normal distribution curve). A sufficiently large sample can predict the parameters of a population such as the mean and standard deviation. Sample size equal to or greater than 30 are required for the central limit theorem to hold true.\n",
    "\n",
    "It shows how much data is present on the particular point of the Y axis which is shows the % of data ditribution in the histogram curves."
   ]
  },
  {
   "cell_type": "markdown",
   "metadata": {},
   "source": [
    "Q6. What kind of object can be shuffled by using random.shuffle?\n",
    "\n",
    "Ans.6 lists (list), strings (str) and tuples (tuple) objects can be shuffled by using random.shuffle."
   ]
  },
  {
   "cell_type": "markdown",
   "metadata": {},
   "source": [
    "Q7. Describe the math package's general categories of functions.\n",
    "\n",
    "Ans.7 The general categories of math package are :\n",
    "\n",
    "   * Trigonometric functions\n",
    "\n",
    "   * Quadratic functions\n",
    "\n",
    "   * Exponential functions\n",
    "\n",
    "   * Hyperbolic functions\n",
    "\n",
    "   * Periodic functions\n",
    "\n",
    "   * Arithmetic functions\n",
    "\n",
    "   * Logarithimic functions\n",
    "\n",
    "   * Conversions to Integer"
   ]
  },
  {
   "cell_type": "markdown",
   "metadata": {},
   "source": [
    "Q8. What is the relationship between exponentiation and logarithms?\n",
    "\n",
    "Ans.8 Logarithmic functions are the inverses of exponential functions.The inverse of exponential function y = a^x is x =a^y. The logarithmic function y = log_a^x is defined to be equivalent to the exponential equation x = a^y."
   ]
  },
  {
   "cell_type": "markdown",
   "metadata": {},
   "source": [
    "Q9. What are the three logarithmic functions that Python supports?\n",
    "\n",
    "Ans.9  Three logarithmic functions that Python supports are:\n",
    "\n",
    "* log(a,(Base)) : This function is used to compute the natural logarithm of 'a' with (Base e) . If 2 arguments are passed, it computes the logarithm of desired base of argument a, numerically value of log(a)/log(Base).\n",
    "\n",
    "* log2(a) : This function is used to compute the logarithm base 2 of a. Displays more accurate result than log(a,2).\n",
    "\n",
    "* log10(a) : This function is used to compute the logarithm base 10 of a. Displays more accurate result than log(a,10)"
   ]
  }
 ],
 "metadata": {
  "kernelspec": {
   "display_name": "Python 3",
   "language": "python",
   "name": "python3"
  },
  "language_info": {
   "codemirror_mode": {
    "name": "ipython",
    "version": 3
   },
   "file_extension": ".py",
   "mimetype": "text/x-python",
   "name": "python",
   "nbconvert_exporter": "python",
   "pygments_lexer": "ipython3",
   "version": "3.8.3"
  }
 },
 "nbformat": 4,
 "nbformat_minor": 4
}
